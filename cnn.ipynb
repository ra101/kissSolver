{
 "cells": [
  {
   "cell_type": "code",
   "execution_count": null,
   "metadata": {},
   "outputs": [],
   "source": [
    "from keras import Sequential\n",
    "from keras.layers.convolutional import MaxPooling2D\n",
    "from keras.layers.convolutional import Conv2D\n",
    "from keras.layers import Dense, Dropout,Flatten,Activation\n",
    "from keras.losses import categorical_crossentropy ##as there is 10 catagories to choose from"
   ]
  },
  {
   "cell_type": "code",
   "execution_count": null,
   "metadata": {},
   "outputs": [],
   "source": [
    "model = Sequential()\n",
    "\n",
    "model.add(Conv2D(16,input_shape=(55,45,1),kernel_size=(3,3)))  ##standard input size h=55,w=45,channels=1\n",
    "\n",
    "model.add(MaxPooling2D(pool_size=(4,4), strides=(4,4), padding='valid'))\n",
    "\n",
    "model.add(Flatten())\n",
    "\n",
    "model.add(Dense(260))\n",
    "model.add(Activation('sigmoid')) ##sigmoid 'cuz it worked\n",
    "model.add(Dropout(rate=0.4)) ##standard\n",
    "\n",
    "model.add(Dense(10)) ##last layer i.e. output layer: 10 catagory (0,1,2,3,4,5,6,7,8,9)\n",
    "model.add(Activation('softmax'))\n",
    "\n",
    "model.compile(loss=categorical_crossentropy, optimizer='sgd', metrics=[\"accuracy\"])"
   ]
  },
  {
   "cell_type": "code",
   "execution_count": null,
   "metadata": {},
   "outputs": [
    {
     "name": "stdout",
     "output_type": "stream",
     "text": [
      "_________________________________________________________________\n",
      "Layer (type)                 Output Shape              Param #   \n",
      "=================================================================\n",
      "conv2d_9 (Conv2D)            (None, 53, 43, 16)        160       \n",
      "_________________________________________________________________\n",
      "max_pooling2d_9 (MaxPooling2 (None, 13, 10, 16)        0         \n",
      "_________________________________________________________________\n",
      "flatten_9 (Flatten)          (None, 2080)              0         \n",
      "_________________________________________________________________\n",
      "dense_23 (Dense)             (None, 260)               541060    \n",
      "_________________________________________________________________\n",
      "activation_19 (Activation)   (None, 260)               0         \n",
      "_________________________________________________________________\n",
      "dropout_6 (Dropout)          (None, 260)               0         \n",
      "_________________________________________________________________\n",
      "dense_24 (Dense)             (None, 10)                2610      \n",
      "_________________________________________________________________\n",
      "activation_20 (Activation)   (None, 10)                0         \n",
      "=================================================================\n",
      "Total params: 543,830\n",
      "Trainable params: 543,830\n",
      "Non-trainable params: 0\n",
      "_________________________________________________________________\n"
     ]
    }
   ],
   "source": [
    "model.summary()"
   ]
  },
  {
   "cell_type": "code",
   "execution_count": null,
   "metadata": {},
   "outputs": [],
   "source": [
    "from keras.preprocessing.image import ImageDataGenerator"
   ]
  },
  {
   "cell_type": "code",
   "execution_count": null,
   "metadata": {},
   "outputs": [],
   "source": [
    "train_datagen = ImageDataGenerator()"
   ]
  },
  {
   "cell_type": "code",
   "execution_count": null,
   "metadata": {},
   "outputs": [
    {
     "name": "stdout",
     "output_type": "stream",
     "text": [
      "Found 6606 images belonging to 10 classes.\n"
     ]
    }
   ],
   "source": [
    "training_set = train_datagen.flow_from_directory('samples_no', ##input dir\n",
    "                                                 target_size = (55, 45), ##standard we selected\n",
    "                                                 batch_size = 32, ##trade off between batch_size and step_per_epoch (given below)\n",
    "                                                 class_mode = 'categorical', ##10 catagories duh!\n",
    "                                                 color_mode = 'grayscale') ##all images are grayscale"
   ]
  },
  {
   "cell_type": "code",
   "execution_count": null,
   "metadata": {},
   "outputs": [
    {
     "name": "stdout",
     "output_type": "stream",
     "text": [
      "Epoch 1/64\n",
      "200/200 [==============================] - 4s 19ms/step - loss: 2.1620 - acc: 0.2361\n",
      "Epoch 2/64\n",
      "200/200 [==============================] - 3s 17ms/step - loss: 1.7117 - acc: 0.4019\n",
      "Epoch 3/64\n",
      "200/200 [==============================] - 3s 17ms/step - loss: 1.3640 - acc: 0.5656\n",
      "Epoch 4/64\n",
      "200/200 [==============================] - 3s 17ms/step - loss: 0.9595 - acc: 0.7357\n",
      "Epoch 5/64\n",
      "200/200 [==============================] - 3s 17ms/step - loss: 0.6687 - acc: 0.8279\n",
      "Epoch 6/64\n",
      "200/200 [==============================] - 4s 18ms/step - loss: 0.5055 - acc: 0.8726: 1s -\n",
      "Epoch 7/64\n",
      "200/200 [==============================] - 4s 21ms/step - loss: 0.4238 - acc: 0.8917\n",
      "Epoch 8/64\n",
      "200/200 [==============================] - 4s 21ms/step - loss: 0.3426 - acc: 0.9131\n",
      "Epoch 9/64\n",
      "200/200 [==============================] - 5s 23ms/step - loss: 0.3304 - acc: 0.9150\n",
      "Epoch 10/64\n",
      "200/200 [==============================] - 4s 22ms/step - loss: 0.2917 - acc: 0.9267\n",
      "Epoch 11/64\n",
      "200/200 [==============================] - 4s 22ms/step - loss: 0.2423 - acc: 0.9434: 1s - loss:\n",
      "Epoch 12/64\n",
      "200/200 [==============================] - 4s 20ms/step - loss: 0.2422 - acc: 0.9380\n",
      "Epoch 13/64\n",
      "200/200 [==============================] - 4s 20ms/step - loss: 0.2193 - acc: 0.9412\n",
      "Epoch 14/64\n",
      "200/200 [==============================] - 4s 21ms/step - loss: 0.2139 - acc: 0.9446: 0s - loss: 0.2142 - acc\n",
      "Epoch 15/64\n",
      "200/200 [==============================] - 4s 22ms/step - loss: 0.1940 - acc: 0.9503\n",
      "Epoch 16/64\n",
      "200/200 [==============================] - 4s 19ms/step - loss: 0.1798 - acc: 0.9530\n",
      "Epoch 17/64\n",
      "200/200 [==============================] - 4s 19ms/step - loss: 0.1714 - acc: 0.9548\n",
      "Epoch 18/64\n",
      "200/200 [==============================] - 4s 19ms/step - loss: 0.1597 - acc: 0.9623\n",
      "Epoch 19/64\n",
      "200/200 [==============================] - 4s 19ms/step - loss: 0.1466 - acc: 0.9631\n",
      "Epoch 20/64\n",
      "200/200 [==============================] - 4s 21ms/step - loss: 0.1561 - acc: 0.9586\n",
      "Epoch 21/64\n",
      "200/200 [==============================] - 4s 22ms/step - loss: 0.1393 - acc: 0.9626\n",
      "Epoch 22/64\n",
      "200/200 [==============================] - 4s 21ms/step - loss: 0.1382 - acc: 0.9626: 0s - loss: 0.1373 - ac\n",
      "Epoch 23/64\n",
      "200/200 [==============================] - 4s 20ms/step - loss: 0.1290 - acc: 0.9666\n",
      "Epoch 24/64\n",
      "200/200 [==============================] - 4s 20ms/step - loss: 0.1199 - acc: 0.9688\n",
      "Epoch 25/64\n",
      "200/200 [==============================] - 4s 21ms/step - loss: 0.1106 - acc: 0.9725\n",
      "Epoch 26/64\n",
      "200/200 [==============================] - 4s 20ms/step - loss: 0.1068 - acc: 0.9728\n",
      "Epoch 27/64\n",
      "200/200 [==============================] - 4s 19ms/step - loss: 0.0923 - acc: 0.9775\n",
      "Epoch 28/64\n",
      "200/200 [==============================] - 4s 19ms/step - loss: 0.0988 - acc: 0.9745\n",
      "Epoch 29/64\n",
      "200/200 [==============================] - 4s 20ms/step - loss: 0.0932 - acc: 0.9766\n",
      "Epoch 30/64\n",
      "200/200 [==============================] - 4s 21ms/step - loss: 0.0825 - acc: 0.9798\n",
      "Epoch 31/64\n",
      "200/200 [==============================] - 4s 21ms/step - loss: 0.0827 - acc: 0.9809\n",
      "Epoch 32/64\n",
      "200/200 [==============================] - 4s 21ms/step - loss: 0.0712 - acc: 0.9828\n",
      "Epoch 33/64\n",
      "200/200 [==============================] - 4s 20ms/step - loss: 0.0724 - acc: 0.9837\n",
      "Epoch 34/64\n",
      "200/200 [==============================] - 4s 20ms/step - loss: 0.0731 - acc: 0.9834\n",
      "Epoch 35/64\n",
      "200/200 [==============================] - 4s 20ms/step - loss: 0.0648 - acc: 0.9852\n",
      "Epoch 36/64\n",
      "200/200 [==============================] - 5s 24ms/step - loss: 0.0620 - acc: 0.9859\n",
      "Epoch 37/64\n",
      "200/200 [==============================] - 4s 21ms/step - loss: 0.0667 - acc: 0.9861\n",
      "Epoch 38/64\n",
      "200/200 [==============================] - 4s 22ms/step - loss: 0.0606 - acc: 0.9856\n",
      "Epoch 39/64\n",
      "200/200 [==============================] - 4s 21ms/step - loss: 0.0555 - acc: 0.9875\n",
      "Epoch 40/64\n",
      "200/200 [==============================] - 4s 22ms/step - loss: 0.0542 - acc: 0.9866\n",
      "Epoch 41/64\n",
      "200/200 [==============================] - 5s 23ms/step - loss: 0.0538 - acc: 0.9879\n",
      "Epoch 42/64\n",
      "200/200 [==============================] - 4s 22ms/step - loss: 0.0571 - acc: 0.9872\n",
      "Epoch 43/64\n",
      "200/200 [==============================] - 4s 22ms/step - loss: 0.0478 - acc: 0.9905\n",
      "Epoch 44/64\n",
      "200/200 [==============================] - 4s 21ms/step - loss: 0.0489 - acc: 0.9878: 1s - lo\n",
      "Epoch 45/64\n",
      "200/200 [==============================] - 4s 21ms/step - loss: 0.0465 - acc: 0.9903\n",
      "Epoch 46/64\n",
      "200/200 [==============================] - 4s 22ms/step - loss: 0.0444 - acc: 0.9914\n",
      "Epoch 47/64\n",
      "200/200 [==============================] - 4s 21ms/step - loss: 0.0433 - acc: 0.9900\n",
      "Epoch 48/64\n",
      "200/200 [==============================] - 4s 21ms/step - loss: 0.0437 - acc: 0.9911\n",
      "Epoch 49/64\n",
      "200/200 [==============================] - 4s 21ms/step - loss: 0.0466 - acc: 0.9900\n",
      "Epoch 50/64\n",
      "200/200 [==============================] - 4s 22ms/step - loss: 0.0385 - acc: 0.9922\n",
      "Epoch 51/64\n",
      "200/200 [==============================] - 4s 19ms/step - loss: 0.0393 - acc: 0.9917\n",
      "Epoch 52/64\n",
      "200/200 [==============================] - 4s 19ms/step - loss: 0.0396 - acc: 0.9909\n",
      "Epoch 53/64\n",
      "200/200 [==============================] - 4s 19ms/step - loss: 0.0445 - acc: 0.9908\n",
      "Epoch 54/64\n",
      "200/200 [==============================] - 4s 19ms/step - loss: 0.0355 - acc: 0.9942\n",
      "Epoch 55/64\n",
      "200/200 [==============================] - 4s 20ms/step - loss: 0.0361 - acc: 0.9928\n",
      "Epoch 56/64\n",
      "200/200 [==============================] - 4s 20ms/step - loss: 0.0374 - acc: 0.9916\n",
      "Epoch 57/64\n",
      "200/200 [==============================] - 4s 20ms/step - loss: 0.0363 - acc: 0.9922\n",
      "Epoch 58/64\n",
      "200/200 [==============================] - 4s 20ms/step - loss: 0.0378 - acc: 0.9936\n",
      "Epoch 59/64\n",
      "200/200 [==============================] - 4s 20ms/step - loss: 0.0329 - acc: 0.9934\n",
      "Epoch 60/64\n",
      "200/200 [==============================] - 4s 20ms/step - loss: 0.0346 - acc: 0.9928\n",
      "Epoch 61/64\n",
      "200/200 [==============================] - 4s 20ms/step - loss: 0.0351 - acc: 0.9914\n",
      "Epoch 62/64\n",
      "200/200 [==============================] - 4s 21ms/step - loss: 0.0329 - acc: 0.9928\n",
      "Epoch 63/64\n",
      "200/200 [==============================] - 4s 21ms/step - loss: 0.0330 - acc: 0.9933\n",
      "Epoch 64/64\n",
      "200/200 [==============================] - 4s 20ms/step - loss: 0.0290 - acc: 0.9942\n"
     ]
    },
    {
     "data": {
      "text/plain": [
       "<keras.callbacks.History at 0x21f8b0f2fd0>"
      ]
     },
     "execution_count": null,
     "metadata": {},
     "output_type": "execute_result"
    }
   ],
   "source": [
    "model.fit_generator(training_set,steps_per_epoch = 200,epochs = 64) "
   ]
  },
  {
   "cell_type": "code",
   "execution_count": null,
   "metadata": {},
   "outputs": [],
   "source": [
    "model.save('cnn/model.h5')"
   ]
  }
 ],
 "metadata": {
  "kernelspec": {
   "display_name": "Python 3",
   "language": "python",
   "name": "python3"
  },
  "language_info": {
   "codemirror_mode": {
    "name": "ipython",
    "version": 3
   },
   "file_extension": ".py",
   "mimetype": "text/x-python",
   "name": "python",
   "nbconvert_exporter": "python",
   "pygments_lexer": "ipython3",
   "version": "3.7.3"
  }
 },
 "nbformat": 4,
 "nbformat_minor": 2
}
